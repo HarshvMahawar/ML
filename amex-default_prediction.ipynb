{
 "cells": [
  {
   "cell_type": "markdown",
   "id": "3456822d",
   "metadata": {
    "papermill": {
     "duration": 0.022503,
     "end_time": "2022-08-24T20:17:06.689638",
     "exception": false,
     "start_time": "2022-08-24T20:17:06.667135",
     "status": "completed"
    },
    "tags": []
   },
   "source": [
    "**Contents**\n",
    "\n",
    "* References\n",
    "* Libraries\n",
    "* Importing Train Set\n",
    "* Train Set preprocessing\n",
    "  * Changing the format of customer_ID and S_2\n",
    "  * Sorting the dataset by customer_ID and S_2\n",
    "  * Grouping the dataset by customer_ID\n",
    "  * Removing the columns with too many missing values\n",
    "  * Handling the missing values in other columns\n",
    "  * Removing the numerical columns with very less correlation with the output\n",
    "  * Handling categorical data\n",
    "  * Feature Scaling\n",
    "* Importing Test Set\n",
    "* Test Set preprocessing\n",
    "  * Changing the format of S_2\n",
    "  * Grouping the dataset by customer_ID\n",
    "  * Handling the missing values\n",
    "  * Handling categorical data\n",
    "  * Missing categories in Test Set\n",
    "  * Feature Scaling\n",
    "* Classification models\n",
    "  * Logistic Regression Classification\n",
    "  * XGBoost Classification\n",
    "  * Light Gradient Boost Machine (LightGBM or LGBM) Classification\n",
    "  * Linear Discriminant Analysis Classification\n",
    "* Choosing the best model\n",
    "* Submission"
   ]
  },
  {
   "cell_type": "markdown",
   "id": "32e03d68",
   "metadata": {
    "papermill": {
     "duration": 0.016532,
     "end_time": "2022-08-24T20:17:06.723983",
     "exception": false,
     "start_time": "2022-08-24T20:17:06.707451",
     "status": "completed"
    },
    "tags": []
   },
   "source": [
    "# References\n",
    "\n",
    "**Notebooks referred:**\n",
    "* https://www.kaggle.com/code/cdeotte/xgboost-starter-0-793\n",
    "* https://www.kaggle.com/code/kingsshah/easiest-way-to-reduce-from-190-to-36-columns/notebook\n",
    "\n",
    "**Dataset used:**\n",
    "* https://www.kaggle.com/datasets/munumbutt/amexfeather"
   ]
  },
  {
   "cell_type": "markdown",
   "id": "5320d40e",
   "metadata": {
    "papermill": {
     "duration": 0.017982,
     "end_time": "2022-08-24T20:17:06.756597",
     "exception": false,
     "start_time": "2022-08-24T20:17:06.738615",
     "status": "completed"
    },
    "tags": []
   },
   "source": [
    "# Libraries"
   ]
  },
  {
   "cell_type": "code",
   "execution_count": 1,
   "id": "b84285d2",
   "metadata": {
    "_cell_guid": "b1076dfc-b9ad-4769-8c92-a6c4dae69d19",
    "_uuid": "8f2839f25d086af736a60e9eeb907d3b93b6e0e5",
    "execution": {
     "iopub.execute_input": "2022-08-24T20:17:06.788425Z",
     "iopub.status.busy": "2022-08-24T20:17:06.787793Z",
     "iopub.status.idle": "2022-08-24T20:17:06.801824Z",
     "shell.execute_reply": "2022-08-24T20:17:06.801007Z"
    },
    "papermill": {
     "duration": 0.031644,
     "end_time": "2022-08-24T20:17:06.804270",
     "exception": false,
     "start_time": "2022-08-24T20:17:06.772626",
     "status": "completed"
    },
    "tags": []
   },
   "outputs": [],
   "source": [
    "import numpy as np\n",
    "import pandas as pd\n",
    "import gc"
   ]
  },
  {
   "cell_type": "markdown",
   "id": "1810ccd0",
   "metadata": {
    "papermill": {
     "duration": 0.013263,
     "end_time": "2022-08-24T20:17:06.830722",
     "exception": false,
     "start_time": "2022-08-24T20:17:06.817459",
     "status": "completed"
    },
    "tags": []
   },
   "source": [
    "# Importing Train Set"
   ]
  },
  {
   "cell_type": "code",
   "execution_count": 2,
   "id": "239e7fe6",
   "metadata": {
    "execution": {
     "iopub.execute_input": "2022-08-24T20:17:06.858983Z",
     "iopub.status.busy": "2022-08-24T20:17:06.858542Z",
     "iopub.status.idle": "2022-08-24T20:17:31.938425Z",
     "shell.execute_reply": "2022-08-24T20:17:31.937424Z"
    },
    "papermill": {
     "duration": 25.097291,
     "end_time": "2022-08-24T20:17:31.941319",
     "exception": false,
     "start_time": "2022-08-24T20:17:06.844028",
     "status": "completed"
    },
    "tags": []
   },
   "outputs": [],
   "source": [
    "train = pd.read_feather('../input/amexfeather/train_data.ftr')\n",
    "train = train.drop(columns = 'target')\n",
    "\n",
    "train_labels = pd.read_csv('/kaggle/input/amex-default-prediction/train_labels.csv')"
   ]
  },
  {
   "cell_type": "code",
   "execution_count": 3,
   "id": "9a441236",
   "metadata": {
    "execution": {
     "iopub.execute_input": "2022-08-24T20:17:31.970079Z",
     "iopub.status.busy": "2022-08-24T20:17:31.969630Z",
     "iopub.status.idle": "2022-08-24T20:17:32.003119Z",
     "shell.execute_reply": "2022-08-24T20:17:32.001969Z"
    },
    "papermill": {
     "duration": 0.050885,
     "end_time": "2022-08-24T20:17:32.005796",
     "exception": false,
     "start_time": "2022-08-24T20:17:31.954911",
     "status": "completed"
    },
    "tags": []
   },
   "outputs": [
    {
     "data": {
      "text/html": [
       "<div>\n",
       "<style scoped>\n",
       "    .dataframe tbody tr th:only-of-type {\n",
       "        vertical-align: middle;\n",
       "    }\n",
       "\n",
       "    .dataframe tbody tr th {\n",
       "        vertical-align: top;\n",
       "    }\n",
       "\n",
       "    .dataframe thead th {\n",
       "        text-align: right;\n",
       "    }\n",
       "</style>\n",
       "<table border=\"1\" class=\"dataframe\">\n",
       "  <thead>\n",
       "    <tr style=\"text-align: right;\">\n",
       "      <th></th>\n",
       "      <th>customer_ID</th>\n",
       "      <th>S_2</th>\n",
       "      <th>P_2</th>\n",
       "      <th>D_39</th>\n",
       "      <th>B_1</th>\n",
       "      <th>B_2</th>\n",
       "      <th>R_1</th>\n",
       "      <th>S_3</th>\n",
       "      <th>D_41</th>\n",
       "      <th>B_3</th>\n",
       "      <th>...</th>\n",
       "      <th>D_136</th>\n",
       "      <th>D_137</th>\n",
       "      <th>D_138</th>\n",
       "      <th>D_139</th>\n",
       "      <th>D_140</th>\n",
       "      <th>D_141</th>\n",
       "      <th>D_142</th>\n",
       "      <th>D_143</th>\n",
       "      <th>D_144</th>\n",
       "      <th>D_145</th>\n",
       "    </tr>\n",
       "  </thead>\n",
       "  <tbody>\n",
       "    <tr>\n",
       "      <th>0</th>\n",
       "      <td>0000099d6bd597052cdcda90ffabf56573fe9d7c79be5f...</td>\n",
       "      <td>2017-03-09</td>\n",
       "      <td>0.938477</td>\n",
       "      <td>0.001734</td>\n",
       "      <td>0.008728</td>\n",
       "      <td>1.006836</td>\n",
       "      <td>0.009224</td>\n",
       "      <td>0.124023</td>\n",
       "      <td>0.008774</td>\n",
       "      <td>0.004707</td>\n",
       "      <td>...</td>\n",
       "      <td>NaN</td>\n",
       "      <td>NaN</td>\n",
       "      <td>NaN</td>\n",
       "      <td>0.002426</td>\n",
       "      <td>0.003706</td>\n",
       "      <td>0.003819</td>\n",
       "      <td>NaN</td>\n",
       "      <td>0.000569</td>\n",
       "      <td>0.000610</td>\n",
       "      <td>0.002674</td>\n",
       "    </tr>\n",
       "    <tr>\n",
       "      <th>1</th>\n",
       "      <td>0000099d6bd597052cdcda90ffabf56573fe9d7c79be5f...</td>\n",
       "      <td>2017-04-07</td>\n",
       "      <td>0.936523</td>\n",
       "      <td>0.005775</td>\n",
       "      <td>0.004925</td>\n",
       "      <td>1.000977</td>\n",
       "      <td>0.006153</td>\n",
       "      <td>0.126709</td>\n",
       "      <td>0.000798</td>\n",
       "      <td>0.002714</td>\n",
       "      <td>...</td>\n",
       "      <td>NaN</td>\n",
       "      <td>NaN</td>\n",
       "      <td>NaN</td>\n",
       "      <td>0.003956</td>\n",
       "      <td>0.003166</td>\n",
       "      <td>0.005032</td>\n",
       "      <td>NaN</td>\n",
       "      <td>0.009575</td>\n",
       "      <td>0.005493</td>\n",
       "      <td>0.009216</td>\n",
       "    </tr>\n",
       "    <tr>\n",
       "      <th>2</th>\n",
       "      <td>0000099d6bd597052cdcda90ffabf56573fe9d7c79be5f...</td>\n",
       "      <td>2017-05-28</td>\n",
       "      <td>0.954102</td>\n",
       "      <td>0.091492</td>\n",
       "      <td>0.021652</td>\n",
       "      <td>1.009766</td>\n",
       "      <td>0.006817</td>\n",
       "      <td>0.123962</td>\n",
       "      <td>0.007599</td>\n",
       "      <td>0.009422</td>\n",
       "      <td>...</td>\n",
       "      <td>NaN</td>\n",
       "      <td>NaN</td>\n",
       "      <td>NaN</td>\n",
       "      <td>0.003269</td>\n",
       "      <td>0.007328</td>\n",
       "      <td>0.000427</td>\n",
       "      <td>NaN</td>\n",
       "      <td>0.003429</td>\n",
       "      <td>0.006985</td>\n",
       "      <td>0.002604</td>\n",
       "    </tr>\n",
       "    <tr>\n",
       "      <th>3</th>\n",
       "      <td>0000099d6bd597052cdcda90ffabf56573fe9d7c79be5f...</td>\n",
       "      <td>2017-06-13</td>\n",
       "      <td>0.960449</td>\n",
       "      <td>0.002455</td>\n",
       "      <td>0.013687</td>\n",
       "      <td>1.002930</td>\n",
       "      <td>0.001372</td>\n",
       "      <td>0.117188</td>\n",
       "      <td>0.000685</td>\n",
       "      <td>0.005531</td>\n",
       "      <td>...</td>\n",
       "      <td>NaN</td>\n",
       "      <td>NaN</td>\n",
       "      <td>NaN</td>\n",
       "      <td>0.006119</td>\n",
       "      <td>0.004517</td>\n",
       "      <td>0.003201</td>\n",
       "      <td>NaN</td>\n",
       "      <td>0.008423</td>\n",
       "      <td>0.006527</td>\n",
       "      <td>0.009598</td>\n",
       "    </tr>\n",
       "    <tr>\n",
       "      <th>4</th>\n",
       "      <td>0000099d6bd597052cdcda90ffabf56573fe9d7c79be5f...</td>\n",
       "      <td>2017-07-16</td>\n",
       "      <td>0.947266</td>\n",
       "      <td>0.002483</td>\n",
       "      <td>0.015190</td>\n",
       "      <td>1.000977</td>\n",
       "      <td>0.007607</td>\n",
       "      <td>0.117310</td>\n",
       "      <td>0.004654</td>\n",
       "      <td>0.009308</td>\n",
       "      <td>...</td>\n",
       "      <td>NaN</td>\n",
       "      <td>NaN</td>\n",
       "      <td>NaN</td>\n",
       "      <td>0.003672</td>\n",
       "      <td>0.004944</td>\n",
       "      <td>0.008888</td>\n",
       "      <td>NaN</td>\n",
       "      <td>0.001670</td>\n",
       "      <td>0.008125</td>\n",
       "      <td>0.009827</td>\n",
       "    </tr>\n",
       "  </tbody>\n",
       "</table>\n",
       "<p>5 rows × 190 columns</p>\n",
       "</div>"
      ],
      "text/plain": [
       "                                         customer_ID        S_2       P_2  \\\n",
       "0  0000099d6bd597052cdcda90ffabf56573fe9d7c79be5f... 2017-03-09  0.938477   \n",
       "1  0000099d6bd597052cdcda90ffabf56573fe9d7c79be5f... 2017-04-07  0.936523   \n",
       "2  0000099d6bd597052cdcda90ffabf56573fe9d7c79be5f... 2017-05-28  0.954102   \n",
       "3  0000099d6bd597052cdcda90ffabf56573fe9d7c79be5f... 2017-06-13  0.960449   \n",
       "4  0000099d6bd597052cdcda90ffabf56573fe9d7c79be5f... 2017-07-16  0.947266   \n",
       "\n",
       "       D_39       B_1       B_2       R_1       S_3      D_41       B_3  ...  \\\n",
       "0  0.001734  0.008728  1.006836  0.009224  0.124023  0.008774  0.004707  ...   \n",
       "1  0.005775  0.004925  1.000977  0.006153  0.126709  0.000798  0.002714  ...   \n",
       "2  0.091492  0.021652  1.009766  0.006817  0.123962  0.007599  0.009422  ...   \n",
       "3  0.002455  0.013687  1.002930  0.001372  0.117188  0.000685  0.005531  ...   \n",
       "4  0.002483  0.015190  1.000977  0.007607  0.117310  0.004654  0.009308  ...   \n",
       "\n",
       "   D_136  D_137  D_138     D_139     D_140     D_141  D_142     D_143  \\\n",
       "0    NaN    NaN    NaN  0.002426  0.003706  0.003819    NaN  0.000569   \n",
       "1    NaN    NaN    NaN  0.003956  0.003166  0.005032    NaN  0.009575   \n",
       "2    NaN    NaN    NaN  0.003269  0.007328  0.000427    NaN  0.003429   \n",
       "3    NaN    NaN    NaN  0.006119  0.004517  0.003201    NaN  0.008423   \n",
       "4    NaN    NaN    NaN  0.003672  0.004944  0.008888    NaN  0.001670   \n",
       "\n",
       "      D_144     D_145  \n",
       "0  0.000610  0.002674  \n",
       "1  0.005493  0.009216  \n",
       "2  0.006985  0.002604  \n",
       "3  0.006527  0.009598  \n",
       "4  0.008125  0.009827  \n",
       "\n",
       "[5 rows x 190 columns]"
      ]
     },
     "execution_count": 3,
     "metadata": {},
     "output_type": "execute_result"
    }
   ],
   "source": [
    "train.head()"
   ]
  },
  {
   "cell_type": "code",
   "execution_count": 4,
   "id": "eb54556c",
   "metadata": {
    "execution": {
     "iopub.execute_input": "2022-08-24T20:17:32.035957Z",
     "iopub.status.busy": "2022-08-24T20:17:32.035350Z",
     "iopub.status.idle": "2022-08-24T20:17:32.043976Z",
     "shell.execute_reply": "2022-08-24T20:17:32.042978Z"
    },
    "papermill": {
     "duration": 0.026662,
     "end_time": "2022-08-24T20:17:32.046291",
     "exception": false,
     "start_time": "2022-08-24T20:17:32.019629",
     "status": "completed"
    },
    "tags": []
   },
   "outputs": [
    {
     "data": {
      "text/html": [
       "<div>\n",
       "<style scoped>\n",
       "    .dataframe tbody tr th:only-of-type {\n",
       "        vertical-align: middle;\n",
       "    }\n",
       "\n",
       "    .dataframe tbody tr th {\n",
       "        vertical-align: top;\n",
       "    }\n",
       "\n",
       "    .dataframe thead th {\n",
       "        text-align: right;\n",
       "    }\n",
       "</style>\n",
       "<table border=\"1\" class=\"dataframe\">\n",
       "  <thead>\n",
       "    <tr style=\"text-align: right;\">\n",
       "      <th></th>\n",
       "      <th>customer_ID</th>\n",
       "      <th>target</th>\n",
       "    </tr>\n",
       "  </thead>\n",
       "  <tbody>\n",
       "    <tr>\n",
       "      <th>0</th>\n",
       "      <td>0000099d6bd597052cdcda90ffabf56573fe9d7c79be5f...</td>\n",
       "      <td>0</td>\n",
       "    </tr>\n",
       "    <tr>\n",
       "      <th>1</th>\n",
       "      <td>00000fd6641609c6ece5454664794f0340ad84dddce9a2...</td>\n",
       "      <td>0</td>\n",
       "    </tr>\n",
       "    <tr>\n",
       "      <th>2</th>\n",
       "      <td>00001b22f846c82c51f6e3958ccd81970162bae8b007e8...</td>\n",
       "      <td>0</td>\n",
       "    </tr>\n",
       "    <tr>\n",
       "      <th>3</th>\n",
       "      <td>000041bdba6ecadd89a52d11886e8eaaec9325906c9723...</td>\n",
       "      <td>0</td>\n",
       "    </tr>\n",
       "    <tr>\n",
       "      <th>4</th>\n",
       "      <td>00007889e4fcd2614b6cbe7f8f3d2e5c728eca32d9eb8a...</td>\n",
       "      <td>0</td>\n",
       "    </tr>\n",
       "  </tbody>\n",
       "</table>\n",
       "</div>"
      ],
      "text/plain": [
       "                                         customer_ID  target\n",
       "0  0000099d6bd597052cdcda90ffabf56573fe9d7c79be5f...       0\n",
       "1  00000fd6641609c6ece5454664794f0340ad84dddce9a2...       0\n",
       "2  00001b22f846c82c51f6e3958ccd81970162bae8b007e8...       0\n",
       "3  000041bdba6ecadd89a52d11886e8eaaec9325906c9723...       0\n",
       "4  00007889e4fcd2614b6cbe7f8f3d2e5c728eca32d9eb8a...       0"
      ]
     },
     "execution_count": 4,
     "metadata": {},
     "output_type": "execute_result"
    }
   ],
   "source": [
    "train_labels.head()"
   ]
  },
  {
   "cell_type": "markdown",
   "id": "2a3092e5",
   "metadata": {
    "papermill": {
     "duration": 0.013847,
     "end_time": "2022-08-24T20:17:32.074275",
     "exception": false,
     "start_time": "2022-08-24T20:17:32.060428",
     "status": "completed"
    },
    "tags": []
   },
   "source": [
    "Train data: (5531451, 190)\n",
    "\n",
    "Train labels: (458913, 2)"
   ]
  },
  {
   "cell_type": "markdown",
   "id": "9b55b88e",
   "metadata": {
    "papermill": {
     "duration": 0.013647,
     "end_time": "2022-08-24T20:17:32.102273",
     "exception": false,
     "start_time": "2022-08-24T20:17:32.088626",
     "status": "completed"
    },
    "tags": []
   },
   "source": [
    "# Train Set preprocessing\n",
    "\n",
    "There are multiple entries for a single customer ID. Let's first group them so that each customer ID has single entry. This will significantly reduce the size of the dataset and further preprocessing will be easier."
   ]
  },
  {
   "cell_type": "markdown",
   "id": "56496f20",
   "metadata": {
    "papermill": {
     "duration": 0.013768,
     "end_time": "2022-08-24T20:17:32.130108",
     "exception": false,
     "start_time": "2022-08-24T20:17:32.116340",
     "status": "completed"
    },
    "tags": []
   },
   "source": [
    "**Changing the format of customer_ID and S_2**\n",
    "\n",
    "In order to group the dataset, I first have to sort it (so that 'last' function works correctly). And in order to sort the dataset, I first have to change the format of 'S_2' to 'datetime'. I have also changed the format of 'customer_ID' from 'hex' to 'int'."
   ]
  },
  {
   "cell_type": "code",
   "execution_count": 5,
   "id": "131aa9e1",
   "metadata": {
    "execution": {
     "iopub.execute_input": "2022-08-24T20:17:32.160552Z",
     "iopub.status.busy": "2022-08-24T20:17:32.159605Z",
     "iopub.status.idle": "2022-08-24T20:17:39.464708Z",
     "shell.execute_reply": "2022-08-24T20:17:39.463851Z"
    },
    "papermill": {
     "duration": 7.322862,
     "end_time": "2022-08-24T20:17:39.467201",
     "exception": false,
     "start_time": "2022-08-24T20:17:32.144339",
     "status": "completed"
    },
    "tags": []
   },
   "outputs": [],
   "source": [
    "train['customer_ID'] = train['customer_ID'].str[-16:].apply(int, base = 16)\n",
    "train_labels['customer_ID'] = train_labels['customer_ID'].str[-16:].apply(int, base = 16)\n",
    "train['S_2'] = pd.to_datetime(train['S_2'])"
   ]
  },
  {
   "cell_type": "markdown",
   "id": "fa50757b",
   "metadata": {
    "papermill": {
     "duration": 0.013558,
     "end_time": "2022-08-24T20:17:39.494771",
     "exception": false,
     "start_time": "2022-08-24T20:17:39.481213",
     "status": "completed"
    },
    "tags": []
   },
   "source": [
    "**Sorting the dataset by customer_ID and S_2**"
   ]
  },
  {
   "cell_type": "code",
   "execution_count": 6,
   "id": "96d153cb",
   "metadata": {
    "execution": {
     "iopub.execute_input": "2022-08-24T20:17:39.524670Z",
     "iopub.status.busy": "2022-08-24T20:17:39.524045Z",
     "iopub.status.idle": "2022-08-24T20:17:58.530449Z",
     "shell.execute_reply": "2022-08-24T20:17:58.529603Z"
    },
    "papermill": {
     "duration": 19.024382,
     "end_time": "2022-08-24T20:17:58.532995",
     "exception": false,
     "start_time": "2022-08-24T20:17:39.508613",
     "status": "completed"
    },
    "tags": []
   },
   "outputs": [],
   "source": [
    "train = train.sort_values(['customer_ID', 'S_2']).reset_index(drop = True)\n",
    "train_labels = train_labels.sort_values('customer_ID').reset_index(drop = True)"
   ]
  },
  {
   "cell_type": "markdown",
   "id": "75ca1324",
   "metadata": {
    "papermill": {
     "duration": 0.014001,
     "end_time": "2022-08-24T20:17:58.561115",
     "exception": false,
     "start_time": "2022-08-24T20:17:58.547114",
     "status": "completed"
    },
    "tags": []
   },
   "source": [
    "**Grouping the dataset by customer_ID**"
   ]
  },
  {
   "cell_type": "code",
   "execution_count": 7,
   "id": "0a56e264",
   "metadata": {
    "execution": {
     "iopub.execute_input": "2022-08-24T20:17:58.591286Z",
     "iopub.status.busy": "2022-08-24T20:17:58.590798Z",
     "iopub.status.idle": "2022-08-24T20:22:19.576354Z",
     "shell.execute_reply": "2022-08-24T20:22:19.575155Z"
    },
    "papermill": {
     "duration": 261.004401,
     "end_time": "2022-08-24T20:22:19.579694",
     "exception": false,
     "start_time": "2022-08-24T20:17:58.575293",
     "status": "completed"
    },
    "tags": []
   },
   "outputs": [],
   "source": [
    "train = train.groupby('customer_ID').agg('last')\n",
    "train.reset_index(drop = False, inplace = True)\n",
    "\n",
    "_ = gc.collect()"
   ]
  },
  {
   "cell_type": "markdown",
   "id": "fb17e870",
   "metadata": {
    "papermill": {
     "duration": 0.013521,
     "end_time": "2022-08-24T20:22:19.608071",
     "exception": false,
     "start_time": "2022-08-24T20:22:19.594550",
     "status": "completed"
    },
    "tags": []
   },
   "source": [
    "**Removing the columns with too many missing values**\n",
    "\n",
    "I have removed the columns with more than 50% missing values."
   ]
  },
  {
   "cell_type": "code",
   "execution_count": 8,
   "id": "25eeb85b",
   "metadata": {
    "execution": {
     "iopub.execute_input": "2022-08-24T20:22:19.637558Z",
     "iopub.status.busy": "2022-08-24T20:22:19.637132Z",
     "iopub.status.idle": "2022-08-24T20:22:20.482521Z",
     "shell.execute_reply": "2022-08-24T20:22:20.481593Z"
    },
    "papermill": {
     "duration": 0.863692,
     "end_time": "2022-08-24T20:22:20.485574",
     "exception": false,
     "start_time": "2022-08-24T20:22:19.621882",
     "status": "completed"
    },
    "tags": []
   },
   "outputs": [],
   "source": [
    "nan_drop_frac = 0.5\n",
    "\n",
    "train.dropna(axis = 1,\n",
    "             thresh = int((1-nan_drop_frac) * len(train)),\n",
    "             inplace = True)\n",
    "\n",
    "del nan_drop_frac\n",
    "_ = gc.collect()"
   ]
  },
  {
   "cell_type": "markdown",
   "id": "6f0a2fdf",
   "metadata": {
    "papermill": {
     "duration": 0.01355,
     "end_time": "2022-08-24T20:22:20.513061",
     "exception": false,
     "start_time": "2022-08-24T20:22:20.499511",
     "status": "completed"
    },
    "tags": []
   },
   "source": [
    "25 numerical columns and 1 categorical column ('D_66') have been removed."
   ]
  },
  {
   "cell_type": "code",
   "execution_count": 9,
   "id": "30483721",
   "metadata": {
    "execution": {
     "iopub.execute_input": "2022-08-24T20:22:20.543028Z",
     "iopub.status.busy": "2022-08-24T20:22:20.542264Z",
     "iopub.status.idle": "2022-08-24T20:22:20.853495Z",
     "shell.execute_reply": "2022-08-24T20:22:20.852476Z"
    },
    "papermill": {
     "duration": 0.329408,
     "end_time": "2022-08-24T20:22:20.856161",
     "exception": false,
     "start_time": "2022-08-24T20:22:20.526753",
     "status": "completed"
    },
    "tags": []
   },
   "outputs": [],
   "source": [
    "all_columns = train.drop(columns = ['customer_ID', 'S_2']).columns\n",
    "\n",
    "cat_columns = ['B_30', 'B_38', 'D_114', 'D_116', 'D_117', 'D_120', 'D_126', 'D_63', 'D_64', 'D_66', 'D_68']\n",
    "cat_columns = [col for col in cat_columns if col in all_columns]  #Need to do this because some categorical columns might have been removed in above code cell\n",
    "\n",
    "num_columns = all_columns.drop(cat_columns)"
   ]
  },
  {
   "cell_type": "markdown",
   "id": "0006f280",
   "metadata": {
    "papermill": {
     "duration": 0.013452,
     "end_time": "2022-08-24T20:22:20.883556",
     "exception": false,
     "start_time": "2022-08-24T20:22:20.870104",
     "status": "completed"
    },
    "tags": []
   },
   "source": [
    "**Handling the missing values in other columns**"
   ]
  },
  {
   "cell_type": "code",
   "execution_count": 10,
   "id": "2827c8ed",
   "metadata": {
    "_kg_hide-output": true,
    "execution": {
     "iopub.execute_input": "2022-08-24T20:22:20.913535Z",
     "iopub.status.busy": "2022-08-24T20:22:20.912522Z",
     "iopub.status.idle": "2022-08-24T20:22:29.399428Z",
     "shell.execute_reply": "2022-08-24T20:22:29.398265Z"
    },
    "papermill": {
     "duration": 8.504618,
     "end_time": "2022-08-24T20:22:29.402057",
     "exception": false,
     "start_time": "2022-08-24T20:22:20.897439",
     "status": "completed"
    },
    "tags": []
   },
   "outputs": [
    {
     "name": "stderr",
     "output_type": "stream",
     "text": [
      "/opt/conda/lib/python3.7/site-packages/numpy/core/fromnumeric.py:86: RuntimeWarning: overflow encountered in reduce\n",
      "  return ufunc.reduce(obj, axis, dtype, out, **passkwargs)\n"
     ]
    }
   ],
   "source": [
    "from sklearn.impute import SimpleImputer\n",
    "\n",
    "num_nan_columns = [col for col in num_columns if train[col].isnull().sum()]\n",
    "cat_nan_columns = [col for col in cat_columns if train[col].isnull().sum()]\n",
    "\n",
    "simple_imp = SimpleImputer(strategy = 'most_frequent')\n",
    "\n",
    "if len(num_nan_columns):\n",
    "    temp_imp = simple_imp.fit_transform(train[num_nan_columns])\n",
    "    train[num_nan_columns] = pd.DataFrame(temp_imp, columns = num_nan_columns)\n",
    "\n",
    "if len(cat_nan_columns):\n",
    "    temp_imp = simple_imp.fit_transform(train[cat_nan_columns])\n",
    "    train[cat_nan_columns] = pd.DataFrame(temp_imp, columns = cat_nan_columns)\n",
    "    \n",
    "del num_nan_columns, cat_nan_columns, simple_imp, temp_imp\n",
    "_ = gc.collect()"
   ]
  },
  {
   "cell_type": "markdown",
   "id": "386f47c2",
   "metadata": {
    "papermill": {
     "duration": 0.013576,
     "end_time": "2022-08-24T20:22:29.430054",
     "exception": false,
     "start_time": "2022-08-24T20:22:29.416478",
     "status": "completed"
    },
    "tags": []
   },
   "source": [
    "Now the train set has 152 numerical features and 10 categorical features. I tried to import test set with all the features, but it resulted in allocating more RAM than available. So I need to use some kind of dimensionality reduction so that I can import only selected columns of test set. I couldn't use PCA or LDA as they also require all the columns to form principal components (using some coefficients associated to all the columns). I needed some method in which I can ignore the less relevant features. That's why I used the correlation technique:"
   ]
  },
  {
   "cell_type": "markdown",
   "id": "60f27254",
   "metadata": {
    "papermill": {
     "duration": 0.013548,
     "end_time": "2022-08-24T20:22:29.457387",
     "exception": false,
     "start_time": "2022-08-24T20:22:29.443839",
     "status": "completed"
    },
    "tags": []
   },
   "source": [
    "**Removing the numerical columns with very less correlation with the output**\n",
    "\n",
    "I have considered top 78 numerical columns which have most correlation with the output. I selected 78 because these have correlation coefficient more than 0.001 with the output. I have not removed any categorical columns."
   ]
  },
  {
   "cell_type": "code",
   "execution_count": 11,
   "id": "0b8bfb58",
   "metadata": {
    "execution": {
     "iopub.execute_input": "2022-08-24T20:22:29.487535Z",
     "iopub.status.busy": "2022-08-24T20:22:29.486737Z",
     "iopub.status.idle": "2022-08-24T20:22:31.374788Z",
     "shell.execute_reply": "2022-08-24T20:22:31.373433Z"
    },
    "papermill": {
     "duration": 1.906325,
     "end_time": "2022-08-24T20:22:31.377754",
     "exception": false,
     "start_time": "2022-08-24T20:22:29.471429",
     "status": "completed"
    },
    "tags": []
   },
   "outputs": [],
   "source": [
    "how_many_num_columns = 78\n",
    "\n",
    "corr_of_columns = abs(train[num_columns].corrwith(train_labels['target']))\n",
    "corr_of_columns.sort_values(ascending = False, inplace = True)\n",
    "\n",
    "num_columns = corr_of_columns[:how_many_num_columns].index\n",
    "all_columns = list(num_columns) + list(cat_columns)\n",
    "\n",
    "train = train[['customer_ID', 'S_2'] + all_columns]\n",
    "\n",
    "del how_many_num_columns, corr_of_columns\n",
    "_ = gc.collect()"
   ]
  },
  {
   "cell_type": "markdown",
   "id": "2d04a608",
   "metadata": {
    "papermill": {
     "duration": 0.013665,
     "end_time": "2022-08-24T20:22:31.405858",
     "exception": false,
     "start_time": "2022-08-24T20:22:31.392193",
     "status": "completed"
    },
    "tags": []
   },
   "source": [
    "Now train set has 78 numerical features and 10 categorical features. I could now import only these selected columns of test set without any RAM issue."
   ]
  },
  {
   "cell_type": "markdown",
   "id": "64d29142",
   "metadata": {
    "papermill": {
     "duration": 0.013589,
     "end_time": "2022-08-24T20:22:31.433427",
     "exception": false,
     "start_time": "2022-08-24T20:22:31.419838",
     "status": "completed"
    },
    "tags": []
   },
   "source": [
    "**Handling categorical data**\n",
    "\n",
    "The get_dummies( ) function will convert the categorical columns into dummies and attach them at end (very similar to One Hot Encoding). I have used prefix seperator '=' for better visuality and understanding.\n",
    "\n",
    "e.g. if there is a categorical column 'ABC' which has categories 0 and 1, then this function will create two dummies 'ABC=0' and 'ABC=1' and attach them at end, and remove the original 'ABC' column. \n",
    "\n",
    "This will not change any other columns."
   ]
  },
  {
   "cell_type": "code",
   "execution_count": 12,
   "id": "41565614",
   "metadata": {
    "execution": {
     "iopub.execute_input": "2022-08-24T20:22:31.464013Z",
     "iopub.status.busy": "2022-08-24T20:22:31.463055Z",
     "iopub.status.idle": "2022-08-24T20:22:31.838975Z",
     "shell.execute_reply": "2022-08-24T20:22:31.837793Z"
    },
    "papermill": {
     "duration": 0.394376,
     "end_time": "2022-08-24T20:22:31.841811",
     "exception": false,
     "start_time": "2022-08-24T20:22:31.447435",
     "status": "completed"
    },
    "tags": []
   },
   "outputs": [],
   "source": [
    "train = pd.get_dummies(data = train,\n",
    "                       prefix_sep = '=',\n",
    "                       columns = cat_columns,\n",
    "                       drop_first = True)"
   ]
  },
  {
   "cell_type": "markdown",
   "id": "af20ccca",
   "metadata": {
    "papermill": {
     "duration": 0.013741,
     "end_time": "2022-08-24T20:22:31.869620",
     "exception": false,
     "start_time": "2022-08-24T20:22:31.855879",
     "status": "completed"
    },
    "tags": []
   },
   "source": [
    "**Feature Scaling**"
   ]
  },
  {
   "cell_type": "code",
   "execution_count": 13,
   "id": "08187d33",
   "metadata": {
    "execution": {
     "iopub.execute_input": "2022-08-24T20:22:31.899889Z",
     "iopub.status.busy": "2022-08-24T20:22:31.899331Z",
     "iopub.status.idle": "2022-08-24T20:22:35.039891Z",
     "shell.execute_reply": "2022-08-24T20:22:35.038630Z"
    },
    "papermill": {
     "duration": 3.159127,
     "end_time": "2022-08-24T20:22:35.042772",
     "exception": false,
     "start_time": "2022-08-24T20:22:31.883645",
     "status": "completed"
    },
    "tags": []
   },
   "outputs": [],
   "source": [
    "from sklearn.preprocessing import StandardScaler\n",
    "\n",
    "columns_to_scale = train.drop(columns = ['customer_ID', 'S_2']).columns\n",
    "\n",
    "scaler = StandardScaler()\n",
    "train[columns_to_scale] = pd.DataFrame(scaler.fit_transform(train[columns_to_scale]), columns = columns_to_scale)"
   ]
  },
  {
   "cell_type": "code",
   "execution_count": 14,
   "id": "466e6e64",
   "metadata": {
    "execution": {
     "iopub.execute_input": "2022-08-24T20:22:35.072897Z",
     "iopub.status.busy": "2022-08-24T20:22:35.072248Z",
     "iopub.status.idle": "2022-08-24T20:22:35.100462Z",
     "shell.execute_reply": "2022-08-24T20:22:35.099142Z"
    },
    "papermill": {
     "duration": 0.046535,
     "end_time": "2022-08-24T20:22:35.103493",
     "exception": false,
     "start_time": "2022-08-24T20:22:35.056958",
     "status": "completed"
    },
    "tags": []
   },
   "outputs": [
    {
     "data": {
      "text/html": [
       "<div>\n",
       "<style scoped>\n",
       "    .dataframe tbody tr th:only-of-type {\n",
       "        vertical-align: middle;\n",
       "    }\n",
       "\n",
       "    .dataframe tbody tr th {\n",
       "        vertical-align: top;\n",
       "    }\n",
       "\n",
       "    .dataframe thead th {\n",
       "        text-align: right;\n",
       "    }\n",
       "</style>\n",
       "<table border=\"1\" class=\"dataframe\">\n",
       "  <thead>\n",
       "    <tr style=\"text-align: right;\">\n",
       "      <th></th>\n",
       "      <th>customer_ID</th>\n",
       "      <th>S_2</th>\n",
       "      <th>P_2</th>\n",
       "      <th>B_2</th>\n",
       "      <th>B_18</th>\n",
       "      <th>B_9</th>\n",
       "      <th>D_48</th>\n",
       "      <th>D_55</th>\n",
       "      <th>B_33</th>\n",
       "      <th>D_44</th>\n",
       "      <th>...</th>\n",
       "      <th>D_64=-1</th>\n",
       "      <th>D_64=O</th>\n",
       "      <th>D_64=R</th>\n",
       "      <th>D_64=U</th>\n",
       "      <th>D_68=1.0</th>\n",
       "      <th>D_68=2.0</th>\n",
       "      <th>D_68=3.0</th>\n",
       "      <th>D_68=4.0</th>\n",
       "      <th>D_68=5.0</th>\n",
       "      <th>D_68=6.0</th>\n",
       "    </tr>\n",
       "  </thead>\n",
       "  <tbody>\n",
       "    <tr>\n",
       "      <th>0</th>\n",
       "      <td>3249127622875</td>\n",
       "      <td>2018-03-09</td>\n",
       "      <td>1.371094</td>\n",
       "      <td>1.014648</td>\n",
       "      <td>0.309082</td>\n",
       "      <td>-0.682617</td>\n",
       "      <td>-1.036133</td>\n",
       "      <td>-0.980469</td>\n",
       "      <td>0.859863</td>\n",
       "      <td>-0.567383</td>\n",
       "      <td>...</td>\n",
       "      <td>0.0</td>\n",
       "      <td>-1.068359</td>\n",
       "      <td>-0.429688</td>\n",
       "      <td>-0.638184</td>\n",
       "      <td>-0.151733</td>\n",
       "      <td>-0.210449</td>\n",
       "      <td>-0.317871</td>\n",
       "      <td>-0.315918</td>\n",
       "      <td>-0.547852</td>\n",
       "      <td>0.963379</td>\n",
       "    </tr>\n",
       "    <tr>\n",
       "      <th>1</th>\n",
       "      <td>23402014749356</td>\n",
       "      <td>2018-03-24</td>\n",
       "      <td>-1.572266</td>\n",
       "      <td>-1.384766</td>\n",
       "      <td>-0.978516</td>\n",
       "      <td>1.351562</td>\n",
       "      <td>1.543945</td>\n",
       "      <td>1.835938</td>\n",
       "      <td>-1.166016</td>\n",
       "      <td>-0.058472</td>\n",
       "      <td>...</td>\n",
       "      <td>0.0</td>\n",
       "      <td>-1.068359</td>\n",
       "      <td>-0.429688</td>\n",
       "      <td>1.568359</td>\n",
       "      <td>-0.151733</td>\n",
       "      <td>-0.210449</td>\n",
       "      <td>-0.317871</td>\n",
       "      <td>-0.315918</td>\n",
       "      <td>1.825195</td>\n",
       "      <td>-1.038086</td>\n",
       "    </tr>\n",
       "    <tr>\n",
       "      <th>2</th>\n",
       "      <td>37423844044824</td>\n",
       "      <td>2018-03-24</td>\n",
       "      <td>-0.198486</td>\n",
       "      <td>-1.293945</td>\n",
       "      <td>-0.975098</td>\n",
       "      <td>-0.117249</td>\n",
       "      <td>-0.173828</td>\n",
       "      <td>-0.102844</td>\n",
       "      <td>-1.167969</td>\n",
       "      <td>-0.030273</td>\n",
       "      <td>...</td>\n",
       "      <td>0.0</td>\n",
       "      <td>-1.068359</td>\n",
       "      <td>2.328125</td>\n",
       "      <td>-0.638184</td>\n",
       "      <td>-0.151733</td>\n",
       "      <td>-0.210449</td>\n",
       "      <td>-0.317871</td>\n",
       "      <td>-0.315918</td>\n",
       "      <td>1.825195</td>\n",
       "      <td>-1.038086</td>\n",
       "    </tr>\n",
       "    <tr>\n",
       "      <th>3</th>\n",
       "      <td>149683802139734</td>\n",
       "      <td>2018-03-07</td>\n",
       "      <td>1.097656</td>\n",
       "      <td>0.551270</td>\n",
       "      <td>1.162109</td>\n",
       "      <td>-0.663574</td>\n",
       "      <td>-1.169922</td>\n",
       "      <td>-0.948730</td>\n",
       "      <td>0.865723</td>\n",
       "      <td>-0.568848</td>\n",
       "      <td>...</td>\n",
       "      <td>0.0</td>\n",
       "      <td>0.936035</td>\n",
       "      <td>-0.429688</td>\n",
       "      <td>-0.638184</td>\n",
       "      <td>-0.151733</td>\n",
       "      <td>-0.210449</td>\n",
       "      <td>-0.317871</td>\n",
       "      <td>-0.315918</td>\n",
       "      <td>-0.547852</td>\n",
       "      <td>0.963379</td>\n",
       "    </tr>\n",
       "    <tr>\n",
       "      <th>4</th>\n",
       "      <td>160820792638518</td>\n",
       "      <td>2018-03-05</td>\n",
       "      <td>-0.444336</td>\n",
       "      <td>-1.135742</td>\n",
       "      <td>-0.967773</td>\n",
       "      <td>0.308105</td>\n",
       "      <td>0.447021</td>\n",
       "      <td>0.197876</td>\n",
       "      <td>-1.166016</td>\n",
       "      <td>-0.047913</td>\n",
       "      <td>...</td>\n",
       "      <td>0.0</td>\n",
       "      <td>0.936035</td>\n",
       "      <td>-0.429688</td>\n",
       "      <td>-0.638184</td>\n",
       "      <td>-0.151733</td>\n",
       "      <td>-0.210449</td>\n",
       "      <td>3.146484</td>\n",
       "      <td>-0.315918</td>\n",
       "      <td>-0.547852</td>\n",
       "      <td>-1.038086</td>\n",
       "    </tr>\n",
       "  </tbody>\n",
       "</table>\n",
       "<p>5 rows × 114 columns</p>\n",
       "</div>"
      ],
      "text/plain": [
       "       customer_ID        S_2       P_2       B_2      B_18       B_9  \\\n",
       "0    3249127622875 2018-03-09  1.371094  1.014648  0.309082 -0.682617   \n",
       "1   23402014749356 2018-03-24 -1.572266 -1.384766 -0.978516  1.351562   \n",
       "2   37423844044824 2018-03-24 -0.198486 -1.293945 -0.975098 -0.117249   \n",
       "3  149683802139734 2018-03-07  1.097656  0.551270  1.162109 -0.663574   \n",
       "4  160820792638518 2018-03-05 -0.444336 -1.135742 -0.967773  0.308105   \n",
       "\n",
       "       D_48      D_55      B_33      D_44  ...  D_64=-1    D_64=O    D_64=R  \\\n",
       "0 -1.036133 -0.980469  0.859863 -0.567383  ...      0.0 -1.068359 -0.429688   \n",
       "1  1.543945  1.835938 -1.166016 -0.058472  ...      0.0 -1.068359 -0.429688   \n",
       "2 -0.173828 -0.102844 -1.167969 -0.030273  ...      0.0 -1.068359  2.328125   \n",
       "3 -1.169922 -0.948730  0.865723 -0.568848  ...      0.0  0.936035 -0.429688   \n",
       "4  0.447021  0.197876 -1.166016 -0.047913  ...      0.0  0.936035 -0.429688   \n",
       "\n",
       "     D_64=U  D_68=1.0  D_68=2.0  D_68=3.0  D_68=4.0  D_68=5.0  D_68=6.0  \n",
       "0 -0.638184 -0.151733 -0.210449 -0.317871 -0.315918 -0.547852  0.963379  \n",
       "1  1.568359 -0.151733 -0.210449 -0.317871 -0.315918  1.825195 -1.038086  \n",
       "2 -0.638184 -0.151733 -0.210449 -0.317871 -0.315918  1.825195 -1.038086  \n",
       "3 -0.638184 -0.151733 -0.210449 -0.317871 -0.315918 -0.547852  0.963379  \n",
       "4 -0.638184 -0.151733 -0.210449  3.146484 -0.315918 -0.547852 -1.038086  \n",
       "\n",
       "[5 rows x 114 columns]"
      ]
     },
     "execution_count": 14,
     "metadata": {},
     "output_type": "execute_result"
    }
   ],
   "source": [
    "train.head()"
   ]
  },
  {
   "cell_type": "code",
   "execution_count": 15,
   "id": "8a786249",
   "metadata": {
    "execution": {
     "iopub.execute_input": "2022-08-24T20:22:35.134645Z",
     "iopub.status.busy": "2022-08-24T20:22:35.133820Z",
     "iopub.status.idle": "2022-08-24T20:22:35.143761Z",
     "shell.execute_reply": "2022-08-24T20:22:35.142762Z"
    },
    "papermill": {
     "duration": 0.02807,
     "end_time": "2022-08-24T20:22:35.146058",
     "exception": false,
     "start_time": "2022-08-24T20:22:35.117988",
     "status": "completed"
    },
    "tags": []
   },
   "outputs": [
    {
     "data": {
      "text/html": [
       "<div>\n",
       "<style scoped>\n",
       "    .dataframe tbody tr th:only-of-type {\n",
       "        vertical-align: middle;\n",
       "    }\n",
       "\n",
       "    .dataframe tbody tr th {\n",
       "        vertical-align: top;\n",
       "    }\n",
       "\n",
       "    .dataframe thead th {\n",
       "        text-align: right;\n",
       "    }\n",
       "</style>\n",
       "<table border=\"1\" class=\"dataframe\">\n",
       "  <thead>\n",
       "    <tr style=\"text-align: right;\">\n",
       "      <th></th>\n",
       "      <th>customer_ID</th>\n",
       "      <th>target</th>\n",
       "    </tr>\n",
       "  </thead>\n",
       "  <tbody>\n",
       "    <tr>\n",
       "      <th>0</th>\n",
       "      <td>3249127622875</td>\n",
       "      <td>0</td>\n",
       "    </tr>\n",
       "    <tr>\n",
       "      <th>1</th>\n",
       "      <td>23402014749356</td>\n",
       "      <td>1</td>\n",
       "    </tr>\n",
       "    <tr>\n",
       "      <th>2</th>\n",
       "      <td>37423844044824</td>\n",
       "      <td>1</td>\n",
       "    </tr>\n",
       "    <tr>\n",
       "      <th>3</th>\n",
       "      <td>149683802139734</td>\n",
       "      <td>0</td>\n",
       "    </tr>\n",
       "    <tr>\n",
       "      <th>4</th>\n",
       "      <td>160820792638518</td>\n",
       "      <td>1</td>\n",
       "    </tr>\n",
       "  </tbody>\n",
       "</table>\n",
       "</div>"
      ],
      "text/plain": [
       "       customer_ID  target\n",
       "0    3249127622875       0\n",
       "1   23402014749356       1\n",
       "2   37423844044824       1\n",
       "3  149683802139734       0\n",
       "4  160820792638518       1"
      ]
     },
     "execution_count": 15,
     "metadata": {},
     "output_type": "execute_result"
    }
   ],
   "source": [
    "train_labels.head()"
   ]
  },
  {
   "cell_type": "markdown",
   "id": "058ba43d",
   "metadata": {
    "papermill": {
     "duration": 0.014158,
     "end_time": "2022-08-24T20:22:35.174725",
     "exception": false,
     "start_time": "2022-08-24T20:22:35.160567",
     "status": "completed"
    },
    "tags": []
   },
   "source": [
    "# Importing Test set"
   ]
  },
  {
   "cell_type": "code",
   "execution_count": 16,
   "id": "64deadae",
   "metadata": {
    "execution": {
     "iopub.execute_input": "2022-08-24T20:22:35.205654Z",
     "iopub.status.busy": "2022-08-24T20:22:35.205224Z",
     "iopub.status.idle": "2022-08-24T20:22:35.210449Z",
     "shell.execute_reply": "2022-08-24T20:22:35.209372Z"
    },
    "papermill": {
     "duration": 0.02346,
     "end_time": "2022-08-24T20:22:35.212605",
     "exception": false,
     "start_time": "2022-08-24T20:22:35.189145",
     "status": "completed"
    },
    "tags": []
   },
   "outputs": [],
   "source": [
    "columns_to_import = ['customer_ID', 'S_2'] + all_columns"
   ]
  },
  {
   "cell_type": "code",
   "execution_count": 17,
   "id": "22c8a272",
   "metadata": {
    "execution": {
     "iopub.execute_input": "2022-08-24T20:22:35.244042Z",
     "iopub.status.busy": "2022-08-24T20:22:35.243270Z",
     "iopub.status.idle": "2022-08-24T20:23:11.377113Z",
     "shell.execute_reply": "2022-08-24T20:23:11.375991Z"
    },
    "papermill": {
     "duration": 36.152723,
     "end_time": "2022-08-24T20:23:11.379969",
     "exception": false,
     "start_time": "2022-08-24T20:22:35.227246",
     "status": "completed"
    },
    "tags": []
   },
   "outputs": [],
   "source": [
    "test = pd.read_feather('../input/amexfeather/test_data.ftr',\n",
    "                       columns = columns_to_import)\n",
    "\n",
    "del columns_to_import\n",
    "_ = gc.collect()"
   ]
  },
  {
   "cell_type": "code",
   "execution_count": 18,
   "id": "e967cbf1",
   "metadata": {
    "execution": {
     "iopub.execute_input": "2022-08-24T20:23:11.411448Z",
     "iopub.status.busy": "2022-08-24T20:23:11.411017Z",
     "iopub.status.idle": "2022-08-24T20:23:11.449972Z",
     "shell.execute_reply": "2022-08-24T20:23:11.448796Z"
    },
    "papermill": {
     "duration": 0.05747,
     "end_time": "2022-08-24T20:23:11.452325",
     "exception": false,
     "start_time": "2022-08-24T20:23:11.394855",
     "status": "completed"
    },
    "tags": []
   },
   "outputs": [
    {
     "data": {
      "text/html": [
       "<div>\n",
       "<style scoped>\n",
       "    .dataframe tbody tr th:only-of-type {\n",
       "        vertical-align: middle;\n",
       "    }\n",
       "\n",
       "    .dataframe tbody tr th {\n",
       "        vertical-align: top;\n",
       "    }\n",
       "\n",
       "    .dataframe thead th {\n",
       "        text-align: right;\n",
       "    }\n",
       "</style>\n",
       "<table border=\"1\" class=\"dataframe\">\n",
       "  <thead>\n",
       "    <tr style=\"text-align: right;\">\n",
       "      <th></th>\n",
       "      <th>customer_ID</th>\n",
       "      <th>S_2</th>\n",
       "      <th>P_2</th>\n",
       "      <th>B_2</th>\n",
       "      <th>B_18</th>\n",
       "      <th>B_9</th>\n",
       "      <th>D_48</th>\n",
       "      <th>D_55</th>\n",
       "      <th>B_33</th>\n",
       "      <th>D_44</th>\n",
       "      <th>...</th>\n",
       "      <th>B_30</th>\n",
       "      <th>B_38</th>\n",
       "      <th>D_114</th>\n",
       "      <th>D_116</th>\n",
       "      <th>D_117</th>\n",
       "      <th>D_120</th>\n",
       "      <th>D_126</th>\n",
       "      <th>D_63</th>\n",
       "      <th>D_64</th>\n",
       "      <th>D_68</th>\n",
       "    </tr>\n",
       "  </thead>\n",
       "  <tbody>\n",
       "    <tr>\n",
       "      <th>0</th>\n",
       "      <td>00000469ba478561f23a92a868bd366de6f6527a684c9a...</td>\n",
       "      <td>2019-02-19</td>\n",
       "      <td>0.631348</td>\n",
       "      <td>0.814453</td>\n",
       "      <td>0.592285</td>\n",
       "      <td>0.001013</td>\n",
       "      <td>0.626465</td>\n",
       "      <td>0.114563</td>\n",
       "      <td>1.003906</td>\n",
       "      <td>0.007584</td>\n",
       "      <td>...</td>\n",
       "      <td>0.0</td>\n",
       "      <td>1.0</td>\n",
       "      <td>NaN</td>\n",
       "      <td>NaN</td>\n",
       "      <td>NaN</td>\n",
       "      <td>NaN</td>\n",
       "      <td>0.0</td>\n",
       "      <td>CR</td>\n",
       "      <td></td>\n",
       "      <td>NaN</td>\n",
       "    </tr>\n",
       "    <tr>\n",
       "      <th>1</th>\n",
       "      <td>00000469ba478561f23a92a868bd366de6f6527a684c9a...</td>\n",
       "      <td>2019-03-25</td>\n",
       "      <td>0.586914</td>\n",
       "      <td>0.811035</td>\n",
       "      <td>0.590820</td>\n",
       "      <td>0.005535</td>\n",
       "      <td>0.611816</td>\n",
       "      <td>0.184082</td>\n",
       "      <td>1.004883</td>\n",
       "      <td>0.006645</td>\n",
       "      <td>...</td>\n",
       "      <td>0.0</td>\n",
       "      <td>1.0</td>\n",
       "      <td>NaN</td>\n",
       "      <td>NaN</td>\n",
       "      <td>NaN</td>\n",
       "      <td>NaN</td>\n",
       "      <td>0.0</td>\n",
       "      <td>CR</td>\n",
       "      <td></td>\n",
       "      <td>NaN</td>\n",
       "    </tr>\n",
       "    <tr>\n",
       "      <th>2</th>\n",
       "      <td>00000469ba478561f23a92a868bd366de6f6527a684c9a...</td>\n",
       "      <td>2019-04-25</td>\n",
       "      <td>0.608887</td>\n",
       "      <td>1.004883</td>\n",
       "      <td>0.591309</td>\n",
       "      <td>0.000023</td>\n",
       "      <td>0.622070</td>\n",
       "      <td>0.253906</td>\n",
       "      <td>1.006836</td>\n",
       "      <td>0.009605</td>\n",
       "      <td>...</td>\n",
       "      <td>0.0</td>\n",
       "      <td>2.0</td>\n",
       "      <td>NaN</td>\n",
       "      <td>NaN</td>\n",
       "      <td>NaN</td>\n",
       "      <td>NaN</td>\n",
       "      <td>0.0</td>\n",
       "      <td>CR</td>\n",
       "      <td></td>\n",
       "      <td>NaN</td>\n",
       "    </tr>\n",
       "    <tr>\n",
       "      <th>3</th>\n",
       "      <td>00000469ba478561f23a92a868bd366de6f6527a684c9a...</td>\n",
       "      <td>2019-05-20</td>\n",
       "      <td>0.614746</td>\n",
       "      <td>0.816406</td>\n",
       "      <td>0.590820</td>\n",
       "      <td>0.007206</td>\n",
       "      <td>0.615723</td>\n",
       "      <td>0.305664</td>\n",
       "      <td>1.009766</td>\n",
       "      <td>0.007820</td>\n",
       "      <td>...</td>\n",
       "      <td>0.0</td>\n",
       "      <td>2.0</td>\n",
       "      <td>NaN</td>\n",
       "      <td>NaN</td>\n",
       "      <td>NaN</td>\n",
       "      <td>NaN</td>\n",
       "      <td>0.0</td>\n",
       "      <td>CR</td>\n",
       "      <td></td>\n",
       "      <td>NaN</td>\n",
       "    </tr>\n",
       "    <tr>\n",
       "      <th>4</th>\n",
       "      <td>00000469ba478561f23a92a868bd366de6f6527a684c9a...</td>\n",
       "      <td>2019-06-15</td>\n",
       "      <td>0.591797</td>\n",
       "      <td>0.810547</td>\n",
       "      <td>0.593262</td>\n",
       "      <td>0.000569</td>\n",
       "      <td>0.591797</td>\n",
       "      <td>0.350342</td>\n",
       "      <td>1.001953</td>\n",
       "      <td>0.009956</td>\n",
       "      <td>...</td>\n",
       "      <td>0.0</td>\n",
       "      <td>2.0</td>\n",
       "      <td>0.0</td>\n",
       "      <td>0.0</td>\n",
       "      <td>-1.0</td>\n",
       "      <td>1.0</td>\n",
       "      <td>0.0</td>\n",
       "      <td>CR</td>\n",
       "      <td>U</td>\n",
       "      <td>6.0</td>\n",
       "    </tr>\n",
       "  </tbody>\n",
       "</table>\n",
       "<p>5 rows × 90 columns</p>\n",
       "</div>"
      ],
      "text/plain": [
       "                                         customer_ID        S_2       P_2  \\\n",
       "0  00000469ba478561f23a92a868bd366de6f6527a684c9a... 2019-02-19  0.631348   \n",
       "1  00000469ba478561f23a92a868bd366de6f6527a684c9a... 2019-03-25  0.586914   \n",
       "2  00000469ba478561f23a92a868bd366de6f6527a684c9a... 2019-04-25  0.608887   \n",
       "3  00000469ba478561f23a92a868bd366de6f6527a684c9a... 2019-05-20  0.614746   \n",
       "4  00000469ba478561f23a92a868bd366de6f6527a684c9a... 2019-06-15  0.591797   \n",
       "\n",
       "        B_2      B_18       B_9      D_48      D_55      B_33      D_44  ...  \\\n",
       "0  0.814453  0.592285  0.001013  0.626465  0.114563  1.003906  0.007584  ...   \n",
       "1  0.811035  0.590820  0.005535  0.611816  0.184082  1.004883  0.006645  ...   \n",
       "2  1.004883  0.591309  0.000023  0.622070  0.253906  1.006836  0.009605  ...   \n",
       "3  0.816406  0.590820  0.007206  0.615723  0.305664  1.009766  0.007820  ...   \n",
       "4  0.810547  0.593262  0.000569  0.591797  0.350342  1.001953  0.009956  ...   \n",
       "\n",
       "   B_30  B_38  D_114  D_116  D_117  D_120  D_126  D_63  D_64  D_68  \n",
       "0   0.0   1.0    NaN    NaN    NaN    NaN    0.0    CR         NaN  \n",
       "1   0.0   1.0    NaN    NaN    NaN    NaN    0.0    CR         NaN  \n",
       "2   0.0   2.0    NaN    NaN    NaN    NaN    0.0    CR         NaN  \n",
       "3   0.0   2.0    NaN    NaN    NaN    NaN    0.0    CR         NaN  \n",
       "4   0.0   2.0    0.0    0.0   -1.0    1.0    0.0    CR     U   6.0  \n",
       "\n",
       "[5 rows x 90 columns]"
      ]
     },
     "execution_count": 18,
     "metadata": {},
     "output_type": "execute_result"
    }
   ],
   "source": [
    "test.head()"
   ]
  },
  {
   "cell_type": "markdown",
   "id": "f590b701",
   "metadata": {
    "papermill": {
     "duration": 0.014879,
     "end_time": "2022-08-24T20:23:11.482622",
     "exception": false,
     "start_time": "2022-08-24T20:23:11.467743",
     "status": "completed"
    },
    "tags": []
   },
   "source": [
    "Test data: (11363762, 90)"
   ]
  },
  {
   "cell_type": "markdown",
   "id": "bdc661b9",
   "metadata": {
    "papermill": {
     "duration": 0.014673,
     "end_time": "2022-08-24T20:23:11.512584",
     "exception": false,
     "start_time": "2022-08-24T20:23:11.497911",
     "status": "completed"
    },
    "tags": []
   },
   "source": [
    "# Test set preprocessing\n",
    "\n",
    "Most of the things are similar to train set. Only difference is that I don't have to do dimensionality reduction because it is already done (as I have only imported selected columns)."
   ]
  },
  {
   "cell_type": "markdown",
   "id": "4a5c96a3",
   "metadata": {
    "papermill": {
     "duration": 0.020844,
     "end_time": "2022-08-24T20:23:11.548453",
     "exception": false,
     "start_time": "2022-08-24T20:23:11.527609",
     "status": "completed"
    },
    "tags": []
   },
   "source": [
    "**Changing the format of S_2**\n",
    "\n",
    "I can't change the format and order of customer IDs because I need original customer IDs for submission."
   ]
  },
  {
   "cell_type": "code",
   "execution_count": 19,
   "id": "1b6b2509",
   "metadata": {
    "execution": {
     "iopub.execute_input": "2022-08-24T20:23:11.580896Z",
     "iopub.status.busy": "2022-08-24T20:23:11.580454Z",
     "iopub.status.idle": "2022-08-24T20:23:11.936825Z",
     "shell.execute_reply": "2022-08-24T20:23:11.935351Z"
    },
    "papermill": {
     "duration": 0.37564,
     "end_time": "2022-08-24T20:23:11.939590",
     "exception": false,
     "start_time": "2022-08-24T20:23:11.563950",
     "status": "completed"
    },
    "tags": []
   },
   "outputs": [],
   "source": [
    "test['S_2'] = pd.to_datetime(test['S_2'])"
   ]
  },
  {
   "cell_type": "markdown",
   "id": "73011429",
   "metadata": {
    "papermill": {
     "duration": 0.014942,
     "end_time": "2022-08-24T20:23:11.970247",
     "exception": false,
     "start_time": "2022-08-24T20:23:11.955305",
     "status": "completed"
    },
    "tags": []
   },
   "source": [
    "**Grouping the dataset by customer_ID**"
   ]
  },
  {
   "cell_type": "code",
   "execution_count": 20,
   "id": "cc561d08",
   "metadata": {
    "execution": {
     "iopub.execute_input": "2022-08-24T20:23:12.034901Z",
     "iopub.status.busy": "2022-08-24T20:23:12.034471Z",
     "iopub.status.idle": "2022-08-24T20:31:04.785065Z",
     "shell.execute_reply": "2022-08-24T20:31:04.783504Z"
    },
    "papermill": {
     "duration": 472.790027,
     "end_time": "2022-08-24T20:31:04.790647",
     "exception": false,
     "start_time": "2022-08-24T20:23:12.000620",
     "status": "completed"
    },
    "tags": []
   },
   "outputs": [],
   "source": [
    "test = test.groupby('customer_ID').agg('last')\n",
    "test.reset_index(drop = False, inplace = True)\n",
    "\n",
    "_ = gc.collect()"
   ]
  },
  {
   "cell_type": "markdown",
   "id": "d6ecacc6",
   "metadata": {
    "papermill": {
     "duration": 0.014911,
     "end_time": "2022-08-24T20:31:04.824973",
     "exception": false,
     "start_time": "2022-08-24T20:31:04.810062",
     "status": "completed"
    },
    "tags": []
   },
   "source": [
    "**Handling missing values**"
   ]
  },
  {
   "cell_type": "code",
   "execution_count": 21,
   "id": "883bab59",
   "metadata": {
    "_kg_hide-output": true,
    "execution": {
     "iopub.execute_input": "2022-08-24T20:31:04.857918Z",
     "iopub.status.busy": "2022-08-24T20:31:04.857476Z",
     "iopub.status.idle": "2022-08-24T20:31:14.202704Z",
     "shell.execute_reply": "2022-08-24T20:31:14.201384Z"
    },
    "papermill": {
     "duration": 9.365074,
     "end_time": "2022-08-24T20:31:14.205637",
     "exception": false,
     "start_time": "2022-08-24T20:31:04.840563",
     "status": "completed"
    },
    "tags": []
   },
   "outputs": [
    {
     "name": "stderr",
     "output_type": "stream",
     "text": [
      "/opt/conda/lib/python3.7/site-packages/numpy/core/fromnumeric.py:86: RuntimeWarning: overflow encountered in reduce\n",
      "  return ufunc.reduce(obj, axis, dtype, out, **passkwargs)\n"
     ]
    }
   ],
   "source": [
    "num_nan_columns = [col for col in num_columns if test[col].isnull().sum()]\n",
    "cat_nan_columns = [col for col in cat_columns if test[col].isnull().sum()]\n",
    "\n",
    "simple_imp = SimpleImputer(strategy = 'most_frequent')\n",
    "\n",
    "if len(num_nan_columns):\n",
    "    temp_imp = simple_imp.fit_transform(test[num_nan_columns])\n",
    "    test[num_nan_columns] = pd.DataFrame(temp_imp, columns = num_nan_columns)\n",
    "\n",
    "if len(cat_nan_columns):\n",
    "    temp_imp = simple_imp.fit_transform(test[cat_nan_columns])\n",
    "    test[cat_nan_columns] = pd.DataFrame(temp_imp, columns = cat_nan_columns)\n",
    "    \n",
    "del num_nan_columns, cat_nan_columns, simple_imp, temp_imp\n",
    "_ = gc.collect()"
   ]
  },
  {
   "cell_type": "markdown",
   "id": "249e7252",
   "metadata": {
    "papermill": {
     "duration": 0.015226,
     "end_time": "2022-08-24T20:31:14.236493",
     "exception": false,
     "start_time": "2022-08-24T20:31:14.221267",
     "status": "completed"
    },
    "tags": []
   },
   "source": [
    "**Handling categorical data**"
   ]
  },
  {
   "cell_type": "code",
   "execution_count": 22,
   "id": "b87b565c",
   "metadata": {
    "execution": {
     "iopub.execute_input": "2022-08-24T20:31:14.269908Z",
     "iopub.status.busy": "2022-08-24T20:31:14.269144Z",
     "iopub.status.idle": "2022-08-24T20:31:15.125790Z",
     "shell.execute_reply": "2022-08-24T20:31:15.124444Z"
    },
    "papermill": {
     "duration": 0.876543,
     "end_time": "2022-08-24T20:31:15.128829",
     "exception": false,
     "start_time": "2022-08-24T20:31:14.252286",
     "status": "completed"
    },
    "tags": []
   },
   "outputs": [],
   "source": [
    "test = pd.get_dummies(data = test,\n",
    "                      prefix_sep = '=',\n",
    "                      columns = cat_columns,\n",
    "                      drop_first = True)"
   ]
  },
  {
   "cell_type": "markdown",
   "id": "0415d583",
   "metadata": {
    "papermill": {
     "duration": 0.014698,
     "end_time": "2022-08-24T20:31:15.158602",
     "exception": false,
     "start_time": "2022-08-24T20:31:15.143904",
     "status": "completed"
    },
    "tags": []
   },
   "source": [
    "**Missing categories in Test Set**\n",
    "\n",
    "I noticed that after converting categorical columns into individual dummies, train set had 114 features but test set had 112. So 2 categories are missing in test set that's why their dummies didn't get created. I have added columns of zeros for these categories, which indirectly means that these categories are absent in the dataset, while still maintaing the shape."
   ]
  },
  {
   "cell_type": "code",
   "execution_count": 23,
   "id": "32ee2466",
   "metadata": {
    "execution": {
     "iopub.execute_input": "2022-08-24T20:31:15.191646Z",
     "iopub.status.busy": "2022-08-24T20:31:15.190473Z",
     "iopub.status.idle": "2022-08-24T20:31:15.761917Z",
     "shell.execute_reply": "2022-08-24T20:31:15.760520Z"
    },
    "papermill": {
     "duration": 0.591564,
     "end_time": "2022-08-24T20:31:15.765708",
     "exception": false,
     "start_time": "2022-08-24T20:31:15.174144",
     "status": "completed"
    },
    "tags": []
   },
   "outputs": [],
   "source": [
    "train_columns = train.columns\n",
    "test_columns = test.columns\n",
    "\n",
    "missing_columns = [col for col in train_columns if col not in test_columns]\n",
    "\n",
    "for col in missing_columns:\n",
    "    test[col] = [0]*len(test)\n",
    "    \n",
    "del train_columns, test_columns, missing_columns\n",
    "_ = gc.collect()"
   ]
  },
  {
   "cell_type": "markdown",
   "id": "2f51c2a7",
   "metadata": {
    "papermill": {
     "duration": 0.014545,
     "end_time": "2022-08-24T20:31:15.795313",
     "exception": false,
     "start_time": "2022-08-24T20:31:15.780768",
     "status": "completed"
    },
    "tags": []
   },
   "source": [
    "Missing categories were 'D_64=-1' and 'D_68=1.0'."
   ]
  },
  {
   "cell_type": "markdown",
   "id": "16df0b1d",
   "metadata": {
    "papermill": {
     "duration": 0.015159,
     "end_time": "2022-08-24T20:31:15.825682",
     "exception": false,
     "start_time": "2022-08-24T20:31:15.810523",
     "status": "completed"
    },
    "tags": []
   },
   "source": [
    "**Feature scaling**"
   ]
  },
  {
   "cell_type": "code",
   "execution_count": 24,
   "id": "bd5841a1",
   "metadata": {
    "execution": {
     "iopub.execute_input": "2022-08-24T20:31:15.858235Z",
     "iopub.status.busy": "2022-08-24T20:31:15.857637Z",
     "iopub.status.idle": "2022-08-24T20:31:19.617117Z",
     "shell.execute_reply": "2022-08-24T20:31:19.615989Z"
    },
    "papermill": {
     "duration": 3.779032,
     "end_time": "2022-08-24T20:31:19.619791",
     "exception": false,
     "start_time": "2022-08-24T20:31:15.840759",
     "status": "completed"
    },
    "tags": []
   },
   "outputs": [],
   "source": [
    "test[columns_to_scale] = pd.DataFrame(scaler.transform(test[columns_to_scale]), columns = columns_to_scale)\n",
    "\n",
    "del scaler, columns_to_scale\n",
    "_ = gc.collect()"
   ]
  },
  {
   "cell_type": "code",
   "execution_count": 25,
   "id": "5549937b",
   "metadata": {
    "execution": {
     "iopub.execute_input": "2022-08-24T20:31:19.653996Z",
     "iopub.status.busy": "2022-08-24T20:31:19.653292Z",
     "iopub.status.idle": "2022-08-24T20:31:19.684041Z",
     "shell.execute_reply": "2022-08-24T20:31:19.682747Z"
    },
    "papermill": {
     "duration": 0.051491,
     "end_time": "2022-08-24T20:31:19.686916",
     "exception": false,
     "start_time": "2022-08-24T20:31:19.635425",
     "status": "completed"
    },
    "tags": []
   },
   "outputs": [
    {
     "data": {
      "text/html": [
       "<div>\n",
       "<style scoped>\n",
       "    .dataframe tbody tr th:only-of-type {\n",
       "        vertical-align: middle;\n",
       "    }\n",
       "\n",
       "    .dataframe tbody tr th {\n",
       "        vertical-align: top;\n",
       "    }\n",
       "\n",
       "    .dataframe thead th {\n",
       "        text-align: right;\n",
       "    }\n",
       "</style>\n",
       "<table border=\"1\" class=\"dataframe\">\n",
       "  <thead>\n",
       "    <tr style=\"text-align: right;\">\n",
       "      <th></th>\n",
       "      <th>customer_ID</th>\n",
       "      <th>S_2</th>\n",
       "      <th>P_2</th>\n",
       "      <th>B_2</th>\n",
       "      <th>B_18</th>\n",
       "      <th>B_9</th>\n",
       "      <th>D_48</th>\n",
       "      <th>D_55</th>\n",
       "      <th>B_33</th>\n",
       "      <th>D_44</th>\n",
       "      <th>...</th>\n",
       "      <th>D_64=O</th>\n",
       "      <th>D_64=R</th>\n",
       "      <th>D_64=U</th>\n",
       "      <th>D_68=2.0</th>\n",
       "      <th>D_68=3.0</th>\n",
       "      <th>D_68=4.0</th>\n",
       "      <th>D_68=5.0</th>\n",
       "      <th>D_68=6.0</th>\n",
       "      <th>D_64=-1</th>\n",
       "      <th>D_68=1.0</th>\n",
       "    </tr>\n",
       "  </thead>\n",
       "  <tbody>\n",
       "    <tr>\n",
       "      <th>0</th>\n",
       "      <td>00000469ba478561f23a92a868bd366de6f6527a684c9a...</td>\n",
       "      <td>2019-10-12</td>\n",
       "      <td>-0.254918</td>\n",
       "      <td>1.014514</td>\n",
       "      <td>0.046002</td>\n",
       "      <td>-0.668306</td>\n",
       "      <td>0.255605</td>\n",
       "      <td>0.483091</td>\n",
       "      <td>0.861928</td>\n",
       "      <td>-0.558213</td>\n",
       "      <td>...</td>\n",
       "      <td>-1.068429</td>\n",
       "      <td>-0.429716</td>\n",
       "      <td>1.567706</td>\n",
       "      <td>-0.210434</td>\n",
       "      <td>-0.317829</td>\n",
       "      <td>-0.315822</td>\n",
       "      <td>-0.547830</td>\n",
       "      <td>0.963695</td>\n",
       "      <td>0.0</td>\n",
       "      <td>-0.15175</td>\n",
       "    </tr>\n",
       "    <tr>\n",
       "      <th>1</th>\n",
       "      <td>00001bf2e77ff879fab36aa4fac689b9ba411dae63ae39...</td>\n",
       "      <td>2019-04-15</td>\n",
       "      <td>0.761109</td>\n",
       "      <td>1.012145</td>\n",
       "      <td>1.157323</td>\n",
       "      <td>-0.627684</td>\n",
       "      <td>-1.065017</td>\n",
       "      <td>-0.861433</td>\n",
       "      <td>0.855998</td>\n",
       "      <td>-0.568740</td>\n",
       "      <td>...</td>\n",
       "      <td>0.935953</td>\n",
       "      <td>-0.429716</td>\n",
       "      <td>-0.637875</td>\n",
       "      <td>-0.210434</td>\n",
       "      <td>-0.317829</td>\n",
       "      <td>-0.315822</td>\n",
       "      <td>-0.547830</td>\n",
       "      <td>0.963695</td>\n",
       "      <td>0.0</td>\n",
       "      <td>-0.15175</td>\n",
       "    </tr>\n",
       "    <tr>\n",
       "      <th>2</th>\n",
       "      <td>0000210045da4f81e5f122c6bde5c2a617d03eef67f82c...</td>\n",
       "      <td>2019-10-16</td>\n",
       "      <td>0.225783</td>\n",
       "      <td>0.529958</td>\n",
       "      <td>0.034221</td>\n",
       "      <td>-0.657095</td>\n",
       "      <td>0.271883</td>\n",
       "      <td>0.351810</td>\n",
       "      <td>0.846115</td>\n",
       "      <td>-0.572257</td>\n",
       "      <td>...</td>\n",
       "      <td>-1.068429</td>\n",
       "      <td>-0.429716</td>\n",
       "      <td>1.567706</td>\n",
       "      <td>-0.210434</td>\n",
       "      <td>-0.317829</td>\n",
       "      <td>3.166344</td>\n",
       "      <td>-0.547830</td>\n",
       "      <td>-1.037673</td>\n",
       "      <td>0.0</td>\n",
       "      <td>-0.15175</td>\n",
       "    </tr>\n",
       "    <tr>\n",
       "      <th>3</th>\n",
       "      <td>00003b41e58ede33b8daf61ab56d9952f17c9ad1c3976c...</td>\n",
       "      <td>2019-04-22</td>\n",
       "      <td>-0.462493</td>\n",
       "      <td>-0.936447</td>\n",
       "      <td>-1.135022</td>\n",
       "      <td>-0.068436</td>\n",
       "      <td>0.492990</td>\n",
       "      <td>0.703515</td>\n",
       "      <td>-1.175634</td>\n",
       "      <td>0.480338</td>\n",
       "      <td>...</td>\n",
       "      <td>-1.068429</td>\n",
       "      <td>2.327121</td>\n",
       "      <td>-0.637875</td>\n",
       "      <td>-0.210434</td>\n",
       "      <td>-0.317829</td>\n",
       "      <td>-0.315822</td>\n",
       "      <td>1.825383</td>\n",
       "      <td>-1.037673</td>\n",
       "      <td>0.0</td>\n",
       "      <td>-0.15175</td>\n",
       "    </tr>\n",
       "    <tr>\n",
       "      <th>4</th>\n",
       "      <td>00004b22eaeeeb0ec976890c1d9bfc14fd9427e98c4ee9...</td>\n",
       "      <td>2019-10-22</td>\n",
       "      <td>-1.427537</td>\n",
       "      <td>-1.343255</td>\n",
       "      <td>-0.972054</td>\n",
       "      <td>1.502339</td>\n",
       "      <td>1.484580</td>\n",
       "      <td>1.197848</td>\n",
       "      <td>-1.174566</td>\n",
       "      <td>0.963758</td>\n",
       "      <td>...</td>\n",
       "      <td>-1.068429</td>\n",
       "      <td>2.327121</td>\n",
       "      <td>-0.637875</td>\n",
       "      <td>-0.210434</td>\n",
       "      <td>-0.317829</td>\n",
       "      <td>-0.315822</td>\n",
       "      <td>1.825383</td>\n",
       "      <td>-1.037673</td>\n",
       "      <td>0.0</td>\n",
       "      <td>-0.15175</td>\n",
       "    </tr>\n",
       "  </tbody>\n",
       "</table>\n",
       "<p>5 rows × 114 columns</p>\n",
       "</div>"
      ],
      "text/plain": [
       "                                         customer_ID        S_2       P_2  \\\n",
       "0  00000469ba478561f23a92a868bd366de6f6527a684c9a... 2019-10-12 -0.254918   \n",
       "1  00001bf2e77ff879fab36aa4fac689b9ba411dae63ae39... 2019-04-15  0.761109   \n",
       "2  0000210045da4f81e5f122c6bde5c2a617d03eef67f82c... 2019-10-16  0.225783   \n",
       "3  00003b41e58ede33b8daf61ab56d9952f17c9ad1c3976c... 2019-04-22 -0.462493   \n",
       "4  00004b22eaeeeb0ec976890c1d9bfc14fd9427e98c4ee9... 2019-10-22 -1.427537   \n",
       "\n",
       "        B_2      B_18       B_9      D_48      D_55      B_33      D_44  ...  \\\n",
       "0  1.014514  0.046002 -0.668306  0.255605  0.483091  0.861928 -0.558213  ...   \n",
       "1  1.012145  1.157323 -0.627684 -1.065017 -0.861433  0.855998 -0.568740  ...   \n",
       "2  0.529958  0.034221 -0.657095  0.271883  0.351810  0.846115 -0.572257  ...   \n",
       "3 -0.936447 -1.135022 -0.068436  0.492990  0.703515 -1.175634  0.480338  ...   \n",
       "4 -1.343255 -0.972054  1.502339  1.484580  1.197848 -1.174566  0.963758  ...   \n",
       "\n",
       "     D_64=O    D_64=R    D_64=U  D_68=2.0  D_68=3.0  D_68=4.0  D_68=5.0  \\\n",
       "0 -1.068429 -0.429716  1.567706 -0.210434 -0.317829 -0.315822 -0.547830   \n",
       "1  0.935953 -0.429716 -0.637875 -0.210434 -0.317829 -0.315822 -0.547830   \n",
       "2 -1.068429 -0.429716  1.567706 -0.210434 -0.317829  3.166344 -0.547830   \n",
       "3 -1.068429  2.327121 -0.637875 -0.210434 -0.317829 -0.315822  1.825383   \n",
       "4 -1.068429  2.327121 -0.637875 -0.210434 -0.317829 -0.315822  1.825383   \n",
       "\n",
       "   D_68=6.0  D_64=-1  D_68=1.0  \n",
       "0  0.963695      0.0  -0.15175  \n",
       "1  0.963695      0.0  -0.15175  \n",
       "2 -1.037673      0.0  -0.15175  \n",
       "3 -1.037673      0.0  -0.15175  \n",
       "4 -1.037673      0.0  -0.15175  \n",
       "\n",
       "[5 rows x 114 columns]"
      ]
     },
     "execution_count": 25,
     "metadata": {},
     "output_type": "execute_result"
    }
   ],
   "source": [
    "test.head()"
   ]
  },
  {
   "cell_type": "code",
   "execution_count": 26,
   "id": "984f6aab",
   "metadata": {
    "execution": {
     "iopub.execute_input": "2022-08-24T20:31:19.720099Z",
     "iopub.status.busy": "2022-08-24T20:31:19.719234Z",
     "iopub.status.idle": "2022-08-24T20:31:19.726084Z",
     "shell.execute_reply": "2022-08-24T20:31:19.724711Z"
    },
    "papermill": {
     "duration": 0.026049,
     "end_time": "2022-08-24T20:31:19.728518",
     "exception": false,
     "start_time": "2022-08-24T20:31:19.702469",
     "status": "completed"
    },
    "tags": []
   },
   "outputs": [
    {
     "name": "stdout",
     "output_type": "stream",
     "text": [
      "Training data shape:  (458913, 114)\n",
      "Training labels shape:  (458913, 2)\n",
      "Test data shape:  (924621, 114)\n"
     ]
    }
   ],
   "source": [
    "print('Training data shape: ', train.shape)\n",
    "print('Training labels shape: ', train_labels.shape)\n",
    "print('Test data shape: ', test.shape)"
   ]
  },
  {
   "cell_type": "markdown",
   "id": "550a1929",
   "metadata": {
    "papermill": {
     "duration": 0.016053,
     "end_time": "2022-08-24T20:31:19.760274",
     "exception": false,
     "start_time": "2022-08-24T20:31:19.744221",
     "status": "completed"
    },
    "tags": []
   },
   "source": [
    "# Classification models"
   ]
  },
  {
   "cell_type": "markdown",
   "id": "f5d79665",
   "metadata": {
    "papermill": {
     "duration": 0.015377,
     "end_time": "2022-08-24T20:31:19.791336",
     "exception": false,
     "start_time": "2022-08-24T20:31:19.775959",
     "status": "completed"
    },
    "tags": []
   },
   "source": [
    "Defining the prerequisites"
   ]
  },
  {
   "cell_type": "code",
   "execution_count": 27,
   "id": "568ab4de",
   "metadata": {
    "execution": {
     "iopub.execute_input": "2022-08-24T20:31:19.825699Z",
     "iopub.status.busy": "2022-08-24T20:31:19.824881Z",
     "iopub.status.idle": "2022-08-24T20:31:19.831462Z",
     "shell.execute_reply": "2022-08-24T20:31:19.830189Z"
    },
    "papermill": {
     "duration": 0.026804,
     "end_time": "2022-08-24T20:31:19.833937",
     "exception": false,
     "start_time": "2022-08-24T20:31:19.807133",
     "status": "completed"
    },
    "tags": []
   },
   "outputs": [],
   "source": [
    "from sklearn.model_selection import cross_val_score\n",
    "\n",
    "preds_of_models = pd.DataFrame({})\n",
    "accuracies_of_models = {}"
   ]
  },
  {
   "cell_type": "markdown",
   "id": "1f6789e9",
   "metadata": {
    "papermill": {
     "duration": 0.015426,
     "end_time": "2022-08-24T20:31:19.865552",
     "exception": false,
     "start_time": "2022-08-24T20:31:19.850126",
     "status": "completed"
    },
    "tags": []
   },
   "source": [
    "Making sure that columns in train set and test set are in same order"
   ]
  },
  {
   "cell_type": "code",
   "execution_count": 28,
   "id": "85b0cfe6",
   "metadata": {
    "execution": {
     "iopub.execute_input": "2022-08-24T20:31:19.900038Z",
     "iopub.status.busy": "2022-08-24T20:31:19.898785Z",
     "iopub.status.idle": "2022-08-24T20:31:21.183348Z",
     "shell.execute_reply": "2022-08-24T20:31:21.182188Z"
    },
    "papermill": {
     "duration": 1.304728,
     "end_time": "2022-08-24T20:31:21.186090",
     "exception": false,
     "start_time": "2022-08-24T20:31:19.881362",
     "status": "completed"
    },
    "tags": []
   },
   "outputs": [],
   "source": [
    "train.sort_index(axis = 1, inplace = True)\n",
    "test.sort_index(axis = 1, inplace = True)"
   ]
  },
  {
   "cell_type": "markdown",
   "id": "47d4cfdc",
   "metadata": {
    "papermill": {
     "duration": 0.015347,
     "end_time": "2022-08-24T20:31:21.217659",
     "exception": false,
     "start_time": "2022-08-24T20:31:21.202312",
     "status": "completed"
    },
    "tags": []
   },
   "source": [
    "**Logistic Regression Classification**"
   ]
  },
  {
   "cell_type": "code",
   "execution_count": 29,
   "id": "8838f19a",
   "metadata": {
    "execution": {
     "iopub.execute_input": "2022-08-24T20:31:21.251471Z",
     "iopub.status.busy": "2022-08-24T20:31:21.251026Z",
     "iopub.status.idle": "2022-08-24T20:34:49.376901Z",
     "shell.execute_reply": "2022-08-24T20:34:49.375574Z"
    },
    "papermill": {
     "duration": 208.14697,
     "end_time": "2022-08-24T20:34:49.380404",
     "exception": false,
     "start_time": "2022-08-24T20:31:21.233434",
     "status": "completed"
    },
    "tags": []
   },
   "outputs": [],
   "source": [
    "from sklearn.linear_model import LogisticRegression\n",
    "\n",
    "lrc = LogisticRegression(penalty = 'l2',\n",
    "                         solver = 'sag',\n",
    "                         tol = 1e-2,\n",
    "                         random_state = 6)\n",
    "\n",
    "lrc.fit(X = train.drop(columns = ['customer_ID', 'S_2']),\n",
    "        y = train_labels['target'])\n",
    "\n",
    "preds_of_models['LRC'] = pd.DataFrame(lrc.predict_proba(X = test.drop(columns = ['customer_ID', 'S_2'])))[1]\n",
    "\n",
    "accuracies_lrc = cross_val_score(estimator = lrc,\n",
    "                                 X = train.drop(columns = ['customer_ID', 'S_2']),\n",
    "                                 y = train_labels['target'],\n",
    "                                 scoring = 'accuracy',\n",
    "                                 cv = 5)\n",
    "\n",
    "accuracies_of_models['LRC'] = accuracies_lrc.mean()\n",
    "\n",
    "del lrc, accuracies_lrc\n",
    "_ = gc.collect()"
   ]
  },
  {
   "cell_type": "markdown",
   "id": "a405d452",
   "metadata": {
    "papermill": {
     "duration": 0.01518,
     "end_time": "2022-08-24T20:34:49.412312",
     "exception": false,
     "start_time": "2022-08-24T20:34:49.397132",
     "status": "completed"
    },
    "tags": []
   },
   "source": [
    "**XGBoost Classification**"
   ]
  },
  {
   "cell_type": "code",
   "execution_count": 30,
   "id": "c28c6d0e",
   "metadata": {
    "execution": {
     "iopub.execute_input": "2022-08-24T20:34:49.445788Z",
     "iopub.status.busy": "2022-08-24T20:34:49.445378Z",
     "iopub.status.idle": "2022-08-24T20:48:13.478527Z",
     "shell.execute_reply": "2022-08-24T20:48:13.477389Z"
    },
    "papermill": {
     "duration": 804.053891,
     "end_time": "2022-08-24T20:48:13.482269",
     "exception": false,
     "start_time": "2022-08-24T20:34:49.428378",
     "status": "completed"
    },
    "tags": []
   },
   "outputs": [],
   "source": [
    "from xgboost import XGBClassifier\n",
    "\n",
    "xgb = XGBClassifier()\n",
    "\n",
    "xgb.fit(X = train.drop(columns = ['customer_ID', 'S_2']),\n",
    "        y = train_labels['target'])\n",
    "\n",
    "preds_of_models['XGB'] = pd.DataFrame(xgb.predict_proba(X = test.drop(columns = ['customer_ID', 'S_2'])))[1]\n",
    "\n",
    "accuracies_xgb = cross_val_score(estimator = xgb,\n",
    "                                 X = train.drop(columns = ['customer_ID', 'S_2']),\n",
    "                                 y = train_labels['target'],\n",
    "                                 scoring = 'accuracy',\n",
    "                                 cv = 5)\n",
    "\n",
    "accuracies_of_models['XGB'] = accuracies_xgb.mean()\n",
    "\n",
    "del xgb, accuracies_xgb\n",
    "_ = gc.collect()"
   ]
  },
  {
   "cell_type": "markdown",
   "id": "d82bd995",
   "metadata": {
    "papermill": {
     "duration": 0.015105,
     "end_time": "2022-08-24T20:48:13.514899",
     "exception": false,
     "start_time": "2022-08-24T20:48:13.499794",
     "status": "completed"
    },
    "tags": []
   },
   "source": [
    "**Light Gradient Boost Machine (LightGBM or LGBM) Classification**"
   ]
  },
  {
   "cell_type": "code",
   "execution_count": 31,
   "id": "0616534f",
   "metadata": {
    "execution": {
     "iopub.execute_input": "2022-08-24T20:48:13.548326Z",
     "iopub.status.busy": "2022-08-24T20:48:13.547335Z",
     "iopub.status.idle": "2022-08-24T21:13:59.351391Z",
     "shell.execute_reply": "2022-08-24T21:13:59.350363Z"
    },
    "papermill": {
     "duration": 1545.823917,
     "end_time": "2022-08-24T21:13:59.354388",
     "exception": false,
     "start_time": "2022-08-24T20:48:13.530471",
     "status": "completed"
    },
    "tags": []
   },
   "outputs": [
    {
     "data": {
      "text/html": [
       "<style type='text/css'>\n",
       ".datatable table.frame { margin-bottom: 0; }\n",
       ".datatable table.frame thead { border-bottom: none; }\n",
       ".datatable table.frame tr.coltypes td {  color: #FFFFFF;  line-height: 6px;  padding: 0 0.5em;}\n",
       ".datatable .bool    { background: #DDDD99; }\n",
       ".datatable .object  { background: #565656; }\n",
       ".datatable .int     { background: #5D9E5D; }\n",
       ".datatable .float   { background: #4040CC; }\n",
       ".datatable .str     { background: #CC4040; }\n",
       ".datatable .time    { background: #40CC40; }\n",
       ".datatable .row_index {  background: var(--jp-border-color3);  border-right: 1px solid var(--jp-border-color0);  color: var(--jp-ui-font-color3);  font-size: 9px;}\n",
       ".datatable .frame tbody td { text-align: left; }\n",
       ".datatable .frame tr.coltypes .row_index {  background: var(--jp-border-color0);}\n",
       ".datatable th:nth-child(2) { padding-left: 12px; }\n",
       ".datatable .hellipsis {  color: var(--jp-cell-editor-border-color);}\n",
       ".datatable .vellipsis {  background: var(--jp-layout-color0);  color: var(--jp-cell-editor-border-color);}\n",
       ".datatable .na {  color: var(--jp-cell-editor-border-color);  font-size: 80%;}\n",
       ".datatable .sp {  opacity: 0.25;}\n",
       ".datatable .footer { font-size: 9px; }\n",
       ".datatable .frame_dimensions {  background: var(--jp-border-color3);  border-top: 1px solid var(--jp-border-color0);  color: var(--jp-ui-font-color3);  display: inline-block;  opacity: 0.6;  padding: 1px 10px 1px 5px;}\n",
       "</style>\n"
      ],
      "text/plain": [
       "<IPython.core.display.HTML object>"
      ]
     },
     "metadata": {},
     "output_type": "display_data"
    }
   ],
   "source": [
    "from lightgbm import LGBMClassifier\n",
    "\n",
    "lgb = LGBMClassifier(boosting_type = 'dart',\n",
    "                     n_estimators = 600,\n",
    "                     objective = 'binary',\n",
    "                     random_state = 3)\n",
    "\n",
    "lgb.fit(X = train.drop(columns = ['customer_ID', 'S_2']),\n",
    "        y = train_labels['target'])\n",
    "\n",
    "preds_of_models['LGB'] = pd.DataFrame(lgb.predict_proba(X = test.drop(columns = ['customer_ID', 'S_2'])))[1]\n",
    "\n",
    "accuracies_lgb = cross_val_score(estimator = lgb,\n",
    "                                 X = train.drop(columns = ['customer_ID', 'S_2']),\n",
    "                                 y = train_labels['target'],\n",
    "                                 scoring = 'accuracy',\n",
    "                                 cv = 5)\n",
    "\n",
    "accuracies_of_models['LGB'] = accuracies_lgb.mean()\n",
    "\n",
    "del lgb, accuracies_lgb\n",
    "_ = gc.collect()"
   ]
  },
  {
   "cell_type": "markdown",
   "id": "53796a94",
   "metadata": {
    "papermill": {
     "duration": 0.015158,
     "end_time": "2022-08-24T21:13:59.386117",
     "exception": false,
     "start_time": "2022-08-24T21:13:59.370959",
     "status": "completed"
    },
    "tags": []
   },
   "source": [
    "**Linear Discriminant Analysis Classification**"
   ]
  },
  {
   "cell_type": "code",
   "execution_count": 32,
   "id": "e4488a9f",
   "metadata": {
    "execution": {
     "iopub.execute_input": "2022-08-24T21:13:59.419456Z",
     "iopub.status.busy": "2022-08-24T21:13:59.418590Z",
     "iopub.status.idle": "2022-08-24T21:15:03.103568Z",
     "shell.execute_reply": "2022-08-24T21:15:03.102292Z"
    },
    "papermill": {
     "duration": 63.704954,
     "end_time": "2022-08-24T21:15:03.106643",
     "exception": false,
     "start_time": "2022-08-24T21:13:59.401689",
     "status": "completed"
    },
    "tags": []
   },
   "outputs": [],
   "source": [
    "from sklearn.discriminant_analysis import LinearDiscriminantAnalysis\n",
    "\n",
    "lda = LinearDiscriminantAnalysis()\n",
    "\n",
    "lda.fit(X = train.drop(columns = ['customer_ID', 'S_2']),\n",
    "        y = train_labels['target'])\n",
    "\n",
    "preds_of_models['LDA'] = pd.DataFrame(lda.predict_proba(X = test.drop(columns = ['customer_ID', 'S_2'])))[1]\n",
    "\n",
    "accuracies_lda = cross_val_score(estimator = lda,\n",
    "                                 X = train.drop(columns = ['customer_ID', 'S_2']),\n",
    "                                 y = train_labels['target'],\n",
    "                                 scoring = 'accuracy',\n",
    "                                 cv = 5)\n",
    "\n",
    "accuracies_of_models['LDA'] = accuracies_lda.mean()\n",
    "\n",
    "del lda, accuracies_lda\n",
    "_ = gc.collect()"
   ]
  },
  {
   "cell_type": "markdown",
   "id": "1e32a4a4",
   "metadata": {
    "papermill": {
     "duration": 0.015943,
     "end_time": "2022-08-24T21:15:03.138824",
     "exception": false,
     "start_time": "2022-08-24T21:15:03.122881",
     "status": "completed"
    },
    "tags": []
   },
   "source": [
    "# Choosing the best model"
   ]
  },
  {
   "cell_type": "code",
   "execution_count": 33,
   "id": "3bde4747",
   "metadata": {
    "execution": {
     "iopub.execute_input": "2022-08-24T21:15:03.172289Z",
     "iopub.status.busy": "2022-08-24T21:15:03.171836Z",
     "iopub.status.idle": "2022-08-24T21:15:03.179248Z",
     "shell.execute_reply": "2022-08-24T21:15:03.178038Z"
    },
    "papermill": {
     "duration": 0.027308,
     "end_time": "2022-08-24T21:15:03.181897",
     "exception": false,
     "start_time": "2022-08-24T21:15:03.154589",
     "status": "completed"
    },
    "tags": []
   },
   "outputs": [
    {
     "name": "stdout",
     "output_type": "stream",
     "text": [
      "LRC    0.894322\n",
      "XGB    0.896503\n",
      "LGB    0.899112\n",
      "LDA    0.891422\n",
      "dtype: float64\n"
     ]
    }
   ],
   "source": [
    "print(pd.Series(accuracies_of_models))"
   ]
  },
  {
   "cell_type": "code",
   "execution_count": 34,
   "id": "916629a0",
   "metadata": {
    "execution": {
     "iopub.execute_input": "2022-08-24T21:15:03.216199Z",
     "iopub.status.busy": "2022-08-24T21:15:03.215499Z",
     "iopub.status.idle": "2022-08-24T21:15:03.352381Z",
     "shell.execute_reply": "2022-08-24T21:15:03.351067Z"
    },
    "papermill": {
     "duration": 0.157402,
     "end_time": "2022-08-24T21:15:03.355216",
     "exception": false,
     "start_time": "2022-08-24T21:15:03.197814",
     "status": "completed"
    },
    "tags": []
   },
   "outputs": [
    {
     "name": "stdout",
     "output_type": "stream",
     "text": [
      "The model with highest accuracy is LGB with 89.91115947838072 % accuracy\n"
     ]
    }
   ],
   "source": [
    "best_model = max(accuracies_of_models, key = lambda x: accuracies_of_models[x])\n",
    "\n",
    "final_preds = preds_of_models[best_model]\n",
    "\n",
    "print(f'The model with highest accuracy is {best_model} with {accuracies_of_models[best_model]*100} % accuracy')\n",
    "\n",
    "del preds_of_models, accuracies_of_models, best_model\n",
    "_ = gc.collect()"
   ]
  },
  {
   "cell_type": "code",
   "execution_count": 35,
   "id": "c1b92d54",
   "metadata": {
    "execution": {
     "iopub.execute_input": "2022-08-24T21:15:03.389550Z",
     "iopub.status.busy": "2022-08-24T21:15:03.388877Z",
     "iopub.status.idle": "2022-08-24T21:15:03.397154Z",
     "shell.execute_reply": "2022-08-24T21:15:03.396022Z"
    },
    "papermill": {
     "duration": 0.028085,
     "end_time": "2022-08-24T21:15:03.399430",
     "exception": false,
     "start_time": "2022-08-24T21:15:03.371345",
     "status": "completed"
    },
    "tags": []
   },
   "outputs": [
    {
     "data": {
      "text/plain": [
       "0    0.041858\n",
       "1    0.002068\n",
       "2    0.048701\n",
       "3    0.368053\n",
       "4    0.883488\n",
       "5    0.001505\n",
       "6    0.923070\n",
       "7    0.231280\n",
       "8    0.734474\n",
       "9    0.004088\n",
       "Name: LGB, dtype: float64"
      ]
     },
     "execution_count": 35,
     "metadata": {},
     "output_type": "execute_result"
    }
   ],
   "source": [
    "final_preds.head(10)"
   ]
  },
  {
   "cell_type": "markdown",
   "id": "003c6c86",
   "metadata": {
    "papermill": {
     "duration": 0.015976,
     "end_time": "2022-08-24T21:15:03.432079",
     "exception": false,
     "start_time": "2022-08-24T21:15:03.416103",
     "status": "completed"
    },
    "tags": []
   },
   "source": [
    "# Submission"
   ]
  },
  {
   "cell_type": "code",
   "execution_count": 36,
   "id": "66d1220b",
   "metadata": {
    "execution": {
     "iopub.execute_input": "2022-08-24T21:15:03.466534Z",
     "iopub.status.busy": "2022-08-24T21:15:03.465563Z",
     "iopub.status.idle": "2022-08-24T21:15:06.395107Z",
     "shell.execute_reply": "2022-08-24T21:15:06.393733Z"
    },
    "papermill": {
     "duration": 2.949518,
     "end_time": "2022-08-24T21:15:06.397883",
     "exception": false,
     "start_time": "2022-08-24T21:15:03.448365",
     "status": "completed"
    },
    "tags": []
   },
   "outputs": [],
   "source": [
    "submission = pd.DataFrame({'customer_ID': test['customer_ID'],\n",
    "                           'prediction': final_preds}).set_index('customer_ID')\n",
    "submission.to_csv('submission.csv')"
   ]
  }
 ],
 "metadata": {
  "kernelspec": {
   "display_name": "Python 3",
   "language": "python",
   "name": "python3"
  },
  "language_info": {
   "codemirror_mode": {
    "name": "ipython",
    "version": 3
   },
   "file_extension": ".py",
   "mimetype": "text/x-python",
   "name": "python",
   "nbconvert_exporter": "python",
   "pygments_lexer": "ipython3",
   "version": "3.7.12"
  },
  "papermill": {
   "default_parameters": {},
   "duration": 3490.615327,
   "end_time": "2022-08-24T21:15:07.947101",
   "environment_variables": {},
   "exception": null,
   "input_path": "__notebook__.ipynb",
   "output_path": "__notebook__.ipynb",
   "parameters": {},
   "start_time": "2022-08-24T20:16:57.331774",
   "version": "2.3.4"
  }
 },
 "nbformat": 4,
 "nbformat_minor": 5
}
